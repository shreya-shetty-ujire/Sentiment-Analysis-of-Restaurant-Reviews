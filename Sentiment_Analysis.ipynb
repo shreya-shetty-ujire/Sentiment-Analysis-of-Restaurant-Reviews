{
 "cells": [
  {
   "cell_type": "markdown",
   "id": "1c864ca4",
   "metadata": {},
   "source": [
    "# __Sentiment Analysis of Restaurant Reviews: Unveiling Customer Perceptions__\n",
    "\n",
    "## Introduction:"
   ]
  },
  {
   "cell_type": "markdown",
   "id": "5bf15033-8be2-4ede-b5c5-cb2e4f2719d5",
   "metadata": {},
   "source": [
    "<div style=\"text-align: justify;\">  \n",
    "In today's digital age, where online platforms and social media have become integral parts of our daily lives, customer reviews wield significant influence over the success and reputation of businesses, particularly within the competitive landscape of the restaurant industry. These reviews serve as a direct channel for customers to express their opinions, share experiences, and provide feedback, making them a valuable source of insights for restaurant owners and managers. Understanding the sentiment expressed in these reviews can provide valuable insights to improve their services, identify areas of strength, and address customer concerns. Positive reviews can act as endorsements, attracting new customers and fostering loyalty among existing ones. Conversely, negative reviews have the potential to damage restaurant's reputation, resulting in loss of business and damage to brand image. Therefore, understanding the sentiment expressed in these reviews is paramount for businesses seeking to thrive.</div>"
   ]
  },
  {
   "cell_type": "markdown",
   "id": "89dc4531",
   "metadata": {},
   "source": [
    "<div style=\"text-align: justify;\">\n",
    "The objective of this project is to analyze customer sentiment in restaurant reviews and explore its relationship with various factors, including price range. Initially, the sentiment of each review is categorized as either positive or average based on customer ratings. Subsequently, the reviews are tokenized and preprocessed to prepare them for machine learning analysis. Using techniques like oversampling with SMOTE and a deep learning model comprising layers of embeddings, sentiment analysis is performed to predict sentiment from review text.\n",
    "\n",
    "Additionally, the association between sentiment and price range is investigated through clustering using K-means algorithm. The methodology integrates data preprocessing, machine learning, and exploratory analysis to gain insights into customer sentiment and its drivers in the restaurant industry.\n",
    "</div>"
   ]
  },
  {
   "cell_type": "markdown",
   "id": "b9c80267",
   "metadata": {},
   "source": [
    "### 1. Load the Libraries"
   ]
  },
  {
   "cell_type": "code",
   "execution_count": 1,
   "id": "750bdeac-4a36-4599-ac5e-7737c33b89bc",
   "metadata": {},
   "outputs": [
    {
     "name": "stderr",
     "output_type": "stream",
     "text": [
      "[nltk_data] Downloading package stopwords to\n",
      "[nltk_data]     C:\\Users\\SHREY\\AppData\\Roaming\\nltk_data...\n",
      "[nltk_data]   Package stopwords is already up-to-date!\n",
      "[nltk_data] Downloading package punkt to\n",
      "[nltk_data]     C:\\Users\\SHREY\\AppData\\Roaming\\nltk_data...\n",
      "[nltk_data]   Package punkt is already up-to-date!\n"
     ]
    },
    {
     "data": {
      "text/plain": [
       "True"
      ]
     },
     "execution_count": 1,
     "metadata": {},
     "output_type": "execute_result"
    }
   ],
   "source": [
    "# pip install tensorflow==2.15.0\n",
    "import pandas as pd\n",
    "import numpy as np\n",
    "import matplotlib.pyplot as plt\n",
    "import ast\n",
    "import seaborn as sns\n",
    "import nltk\n",
    "import warnings\n",
    "warnings.filterwarnings(\"ignore\")\n",
    "pd.set_option('display.max_colwidth', None)\n",
    "pd.set_option('display.max_columns', None)\n",
    "nltk.download('stopwords')\n",
    "nltk.download('punkt')"
   ]
  },
  {
   "cell_type": "markdown",
   "id": "b567a5da",
   "metadata": {},
   "source": [
    "### 2. Read data\n",
    "\n",
    "<div style=\"text-align: justify;\">\n",
    "The 'TA_restaurants_curated1.csv' dataset was compiled by scraping data from the Trip Advisor website to gather information about restaurants across various cities. After collecting raw data from major cities in Europe, it is preprocessed to produce the final dataset. It includes restaurant details from 31 cities across Europe.\n",
    "    </div>"
   ]
  },
  {
   "cell_type": "code",
   "execution_count": 2,
   "id": "4811c6e5",
   "metadata": {},
   "outputs": [],
   "source": [
    "# Load the data\n",
    "restReviews = pd.read_csv(\"TA_restaurants_curated1.csv\")"
   ]
  },
  {
   "cell_type": "markdown",
   "id": "746c90cd",
   "metadata": {},
   "source": [
    "### 3. Pre-processing"
   ]
  },
  {
   "cell_type": "code",
   "execution_count": 3,
   "id": "2a0b50e0",
   "metadata": {
    "scrolled": true
   },
   "outputs": [
    {
     "data": {
      "text/html": [
       "<div>\n",
       "<style scoped>\n",
       "    .dataframe tbody tr th:only-of-type {\n",
       "        vertical-align: middle;\n",
       "    }\n",
       "\n",
       "    .dataframe tbody tr th {\n",
       "        vertical-align: top;\n",
       "    }\n",
       "\n",
       "    .dataframe thead th {\n",
       "        text-align: right;\n",
       "    }\n",
       "</style>\n",
       "<table border=\"1\" class=\"dataframe\">\n",
       "  <thead>\n",
       "    <tr style=\"text-align: right;\">\n",
       "      <th></th>\n",
       "      <th>Unnamed: 0</th>\n",
       "      <th>Name</th>\n",
       "      <th>City</th>\n",
       "      <th>Cuisine Style</th>\n",
       "      <th>Ranking</th>\n",
       "      <th>Rating</th>\n",
       "      <th>Price Range</th>\n",
       "      <th>Number of Reviews</th>\n",
       "      <th>Reviews</th>\n",
       "      <th>URL_TA</th>\n",
       "      <th>ID_TA</th>\n",
       "    </tr>\n",
       "  </thead>\n",
       "  <tbody>\n",
       "    <tr>\n",
       "      <th>0</th>\n",
       "      <td>0</td>\n",
       "      <td>Martine of Martine's Table</td>\n",
       "      <td>Amsterdam</td>\n",
       "      <td>['French', 'Dutch', 'European']</td>\n",
       "      <td>1.0</td>\n",
       "      <td>5.0</td>\n",
       "      <td>$$ - $$$</td>\n",
       "      <td>136.0</td>\n",
       "      <td>[['Just like home', 'A Warm Welcome to Wintry Amsterdam'], ['01/03/2018', '01/01/2018']]</td>\n",
       "      <td>/Restaurant_Review-g188590-d11752080-Reviews-Martine_of_Martine_s_Table-Amsterdam_North_Holland_Province.html</td>\n",
       "      <td>d11752080</td>\n",
       "    </tr>\n",
       "    <tr>\n",
       "      <th>1</th>\n",
       "      <td>1</td>\n",
       "      <td>De Silveren Spiegel</td>\n",
       "      <td>Amsterdam</td>\n",
       "      <td>['Dutch', 'European', 'Vegetarian Friendly', 'Gluten Free Options']</td>\n",
       "      <td>2.0</td>\n",
       "      <td>4.5</td>\n",
       "      <td>$$$$</td>\n",
       "      <td>812.0</td>\n",
       "      <td>[['Great food and staff', 'just perfect'], ['01/06/2018', '01/04/2018']]</td>\n",
       "      <td>/Restaurant_Review-g188590-d693419-Reviews-De_Silveren_Spiegel-Amsterdam_North_Holland_Province.html</td>\n",
       "      <td>d693419</td>\n",
       "    </tr>\n",
       "    <tr>\n",
       "      <th>2</th>\n",
       "      <td>2</td>\n",
       "      <td>La Rive</td>\n",
       "      <td>Amsterdam</td>\n",
       "      <td>['Mediterranean', 'French', 'International', 'European', 'Vegetarian Friendly', 'Vegan Options']</td>\n",
       "      <td>3.0</td>\n",
       "      <td>4.5</td>\n",
       "      <td>$$$$</td>\n",
       "      <td>567.0</td>\n",
       "      <td>[['Satisfaction', 'Delicious old school restaurant'], ['01/04/2018', '01/04/2018']]</td>\n",
       "      <td>/Restaurant_Review-g188590-d696959-Reviews-La_Rive-Amsterdam_North_Holland_Province.html</td>\n",
       "      <td>d696959</td>\n",
       "    </tr>\n",
       "  </tbody>\n",
       "</table>\n",
       "</div>"
      ],
      "text/plain": [
       "   Unnamed: 0                        Name       City  \\\n",
       "0           0  Martine of Martine's Table  Amsterdam   \n",
       "1           1         De Silveren Spiegel  Amsterdam   \n",
       "2           2                     La Rive  Amsterdam   \n",
       "\n",
       "                                                                                      Cuisine Style  \\\n",
       "0                                                                   ['French', 'Dutch', 'European']   \n",
       "1                               ['Dutch', 'European', 'Vegetarian Friendly', 'Gluten Free Options']   \n",
       "2  ['Mediterranean', 'French', 'International', 'European', 'Vegetarian Friendly', 'Vegan Options']   \n",
       "\n",
       "   Ranking  Rating Price Range  Number of Reviews  \\\n",
       "0      1.0     5.0    $$ - $$$              136.0   \n",
       "1      2.0     4.5        $$$$              812.0   \n",
       "2      3.0     4.5        $$$$              567.0   \n",
       "\n",
       "                                                                                    Reviews  \\\n",
       "0  [['Just like home', 'A Warm Welcome to Wintry Amsterdam'], ['01/03/2018', '01/01/2018']]   \n",
       "1                  [['Great food and staff', 'just perfect'], ['01/06/2018', '01/04/2018']]   \n",
       "2       [['Satisfaction', 'Delicious old school restaurant'], ['01/04/2018', '01/04/2018']]   \n",
       "\n",
       "                                                                                                          URL_TA  \\\n",
       "0  /Restaurant_Review-g188590-d11752080-Reviews-Martine_of_Martine_s_Table-Amsterdam_North_Holland_Province.html   \n",
       "1           /Restaurant_Review-g188590-d693419-Reviews-De_Silveren_Spiegel-Amsterdam_North_Holland_Province.html   \n",
       "2                       /Restaurant_Review-g188590-d696959-Reviews-La_Rive-Amsterdam_North_Holland_Province.html   \n",
       "\n",
       "       ID_TA  \n",
       "0  d11752080  \n",
       "1    d693419  \n",
       "2    d696959  "
      ]
     },
     "execution_count": 3,
     "metadata": {},
     "output_type": "execute_result"
    }
   ],
   "source": [
    "restReviews.head(3)"
   ]
  },
  {
   "cell_type": "code",
   "execution_count": 4,
   "id": "849b3286",
   "metadata": {},
   "outputs": [],
   "source": [
    "# Renaming the columns \n",
    "restReviews.rename(columns={\"Name\":\"name\",\"City\":\"city\",\n",
    "                            \"Cuisine Style\" : \"cuisine\",'Rating':'rating',\n",
    "                            \"Price Range\": \"priceRange\", \n",
    "                            \"Number of Reviews\" : \"numOfReviews\",\n",
    "                            \"Reviews\":'reviews'}, inplace = True)"
   ]
  },
  {
   "cell_type": "markdown",
   "id": "c21531ee",
   "metadata": {},
   "source": [
    "- __Removing Duplicates__\n",
    "\n",
    "    According to the dataset, each row is uniquely identified by the 'ID_TA' column. However, there are some duplicate values in this column. We'll remove these duplicates to ensure data integrity."
   ]
  },
  {
   "cell_type": "code",
   "execution_count": 5,
   "id": "c68e5d22",
   "metadata": {},
   "outputs": [],
   "source": [
    "restReviews.drop_duplicates(['ID_TA'], keep='first', inplace=True)\n",
    "\n",
    "#Dropping the columns which are not required.\n",
    "restReviews.drop([\"Unnamed: 0\",\"Ranking\", \"URL_TA\", \"ID_TA\"], axis = 1, \n",
    "                 inplace = True)"
   ]
  },
  {
   "cell_type": "markdown",
   "id": "4692228e",
   "metadata": {},
   "source": [
    "- __Handling Missing Values__\n",
    "   \n",
    "   The cuisine column should be handled for missing values. The 'transform' method is used to handle missing or incomplete data in the 'cuisine' column. It converts the string representation of a list of cuisines into an actual list. If the conversion fails due to syntax or value errors, it returns an empty string. This ensures accurate representation of cuisine information and addresses missing or incomplete values.\n",
    "\n"
   ]
  },
  {
   "cell_type": "code",
   "execution_count": 6,
   "id": "e9d6e58e",
   "metadata": {},
   "outputs": [],
   "source": [
    "# Function to transform each element of the Cuisine column\n",
    "def transform(element):\n",
    "    try:\n",
    "        # Convert string representation of list to actual list\n",
    "        element = ast.literal_eval(element)  \n",
    "        # Join elements of the list with comma separation\n",
    "        text = ', '.join(element)  \n",
    "    except (SyntaxError, ValueError):\n",
    "        text = \"\"  # Return empty string if unable to evaluate the line\n",
    "    return text\n",
    "\n",
    "# Applying the function to the Cuisine column\n",
    "restReviews['cuisine'] = restReviews['cuisine'].apply(transform)"
   ]
  },
  {
   "cell_type": "markdown",
   "id": "b790b73c",
   "metadata": {},
   "source": [
    "<div style=\"text-align: justify;\">\n",
    "The number of empty strings in the 'cuisine' column is calculated below. The missing cuisine values are inferred based on restaurant names. If a restaurant name contains a substring that matches a cuisine, the corresponding missing value is updated. Any remaining missing cuisine values are then filled with 'Other'.\n",
    "    </div>"
   ]
  },
  {
   "cell_type": "code",
   "execution_count": 7,
   "id": "78d81511",
   "metadata": {},
   "outputs": [
    {
     "name": "stdout",
     "output_type": "stream",
     "text": [
      "31279\n"
     ]
    }
   ],
   "source": [
    "empty_string_count = (restReviews['cuisine'] == '').sum()\n",
    "print(empty_string_count)"
   ]
  },
  {
   "cell_type": "code",
   "execution_count": 8,
   "id": "d65e2f9b",
   "metadata": {},
   "outputs": [],
   "source": [
    "# Initialize an empty dictionary to store cuisine frequencies\n",
    "cuisine_list = {}\n",
    "\n",
    "# Iterate over each entry in the 'cuisine' column\n",
    "for i in restReviews.cuisine:\n",
    "    arr = i.split(\",\")\n",
    "    for j in range(len(arr)):\n",
    "        #  If the cuisine already exists, increment its count\n",
    "        if arr[j] in cuisine_list:\n",
    "            cuisine_list[arr[j]] += 1\n",
    "        # Else, add it to the dictionary with a count of 1\n",
    "        else:\n",
    "            cuisine_list[arr[j]] = 1\n",
    "            \n",
    "# Update missing cuisine values based on restaurant names\n",
    "for i in cuisine_list:\n",
    "    restReviews.loc[(restReviews.name.str.lower().str.contains(i.lower())\n",
    "                     & (restReviews.cuisine == \"\")), \"cuisine\"] = i\n",
    "# Fill remaining missing cuisine values with 'Other'\n",
    "restReviews.loc[restReviews['cuisine'] == '', 'cuisine'] = 'Other'"
   ]
  },
  {
   "cell_type": "markdown",
   "id": "e44612e9",
   "metadata": {},
   "source": [
    "Impute missing values in the 'Rating' column by replacing them with the mode value calculated for each group defined by the combination of 'city', 'cuisine', and 'priceRange'. "
   ]
  },
  {
   "cell_type": "code",
   "execution_count": 9,
   "id": "329e9c33",
   "metadata": {},
   "outputs": [],
   "source": [
    "# Fill missing values in the 'rating' column\n",
    "mode_rating = restReviews.groupby([\"city\", \"cuisine\", \"priceRange\"])[\"rating\"].agg(pd.Series.mode).values[0]\n",
    "restReviews['rating'].fillna(mode_rating, inplace=True)\n",
    "\n",
    "# Fill missing values in the 'numOfReviews' column with 0\n",
    "restReviews['numOfReviews'].fillna(0, inplace=True)\n",
    "\n",
    "# Dropping rows with missing reviews\n",
    "restReviews.dropna(subset=['reviews'], inplace=True)"
   ]
  },
  {
   "cell_type": "markdown",
   "id": "b9290a59",
   "metadata": {},
   "source": [
    "- __Data Formatting__\n",
    "\n",
    "    We'll replace the notation used in the dataset for the three price ranges with more suitable labels: cheaper, medium and higher respectively. Additionally, replacing the NaN values with 'notAvailable' to indicate missing price range"
   ]
  },
  {
   "cell_type": "code",
   "execution_count": 10,
   "id": "7c21072a",
   "metadata": {},
   "outputs": [
    {
     "data": {
      "text/plain": [
       "array(['$$ - $$$', '$$$$', '$', nan], dtype=object)"
      ]
     },
     "execution_count": 10,
     "metadata": {},
     "output_type": "execute_result"
    }
   ],
   "source": [
    "restReviews[\"priceRange\"].unique()"
   ]
  },
  {
   "cell_type": "code",
   "execution_count": 11,
   "id": "e277e867",
   "metadata": {},
   "outputs": [],
   "source": [
    "# Replacing price range with cheaper, medium and higher.\n",
    "restReviews.replace({\"$\": 'cheaper', \"$$ - $$$\": 'medium', \"$$$$\": 'higher'}, inplace = True)\n",
    "restReviews['priceRange'].fillna('notAvailable', inplace=True)\n",
    "# Converting the 'numOfReviews' column to integers\n",
    "restReviews['numOfReviews'] = restReviews['numOfReviews'].astype('int')"
   ]
  },
  {
   "cell_type": "markdown",
   "id": "5b491f74",
   "metadata": {},
   "source": [
    "Creating a copy of the DataFrame for further processing."
   ]
  },
  {
   "cell_type": "code",
   "execution_count": 12,
   "id": "5947cf3c",
   "metadata": {},
   "outputs": [],
   "source": [
    "copyReviews=restReviews.copy()"
   ]
  },
  {
   "cell_type": "markdown",
   "id": "c01b4f13",
   "metadata": {},
   "source": [
    "<div style=\"text-align: justify;\">\n",
    "The original format of the review data in the 'reviews' column consists of nested lists. Each element of this nested list contains two sub-lists: one for the review text and another for the corresponding date. However, for the purpose of our model, we only require the review text. Therefore, we have extracted only the review text from this nested structure.\n",
    "    </div>"
   ]
  },
  {
   "cell_type": "code",
   "execution_count": 13,
   "id": "76eb9e54",
   "metadata": {},
   "outputs": [],
   "source": [
    "def parse_nested_list(s):\n",
    "    # Remove the extra brackets and quotes\n",
    "    s = s.strip(\"[]\")\n",
    "    # Split the string to extract reviews part\n",
    "    parts = s.split(\"'], [\")\n",
    "    # Extract reviews\n",
    "    review_list = ', '.join([review.strip(\"'\") for review in parts[0].split(\"', '\")])\n",
    "    if not review_list:\n",
    "        review_list = 'No review available'\n",
    "    return review_list\n",
    "\n",
    "# Apply the function to parse the nested list in the 'reviews' column\n",
    "copyReviews['review'] = copyReviews['reviews'].apply(parse_nested_list)\n",
    "copyReviews.drop(columns=['reviews'], inplace=True)\n",
    "\n",
    "# Filter out rows\n",
    "copyReviews = copyReviews[copyReviews['review'].apply(lambda x: len(x) > 3)]\n"
   ]
  },
  {
   "cell_type": "markdown",
   "id": "b16790fe",
   "metadata": {},
   "source": [
    "<div style=\"text-align: justify;\">\n",
    "One-hot encoding was applied to the 'priceRange' column to convert categorical price range data into binary vectors, where each category is represented by a binary variable format suitable for machine learning models. This preprocessing step enhances the model's ability to learn from the data and improves its overall performance. \n",
    "    </div>"
   ]
  },
  {
   "cell_type": "code",
   "execution_count": 14,
   "id": "cc1bdf1a",
   "metadata": {},
   "outputs": [],
   "source": [
    "# One-hot encode the 'Price Range' column\n",
    "price_dummies = pd.get_dummies(copyReviews['priceRange'], prefix='price')\n",
    "\n",
    "# Concatenate the original DataFrame with the dummy variables\n",
    "copyReviews = pd.concat([copyReviews, price_dummies], axis=1)\n",
    "# Drop the original 'priceRange' column\n",
    "copyReviews.drop(columns=['priceRange'], inplace=True)"
   ]
  },
  {
   "cell_type": "markdown",
   "id": "288b0d1a",
   "metadata": {},
   "source": [
    "<div style=\"text-align: justify;\">\n",
    "Sentiment labels were assigned to the reviews based on their ratings. Reviews with ratings equal to or greater than 3.5 were labeled as positive sentiments, while those with ratings below 3.5 were labeled as average sentiments. This process helps categorize the reviews into positive and average sentiment categories, which can be useful for sentiment analysis and classification tasks.\n",
    "    </div>"
   ]
  },
  {
   "cell_type": "code",
   "execution_count": 15,
   "id": "0f841ba5",
   "metadata": {},
   "outputs": [],
   "source": [
    "from sklearn.preprocessing import LabelEncoder\n",
    "def label_sentiment(rating):\n",
    "    if rating >= 3.5:\n",
    "        return 1\n",
    "    else:\n",
    "        return 0\n",
    "\n",
    "# Apply the function to label sentiments based on ratings\n",
    "copyReviews['sentiment'] = copyReviews['rating'].apply(label_sentiment)\n"
   ]
  },
  {
   "cell_type": "markdown",
   "id": "4c4befb1",
   "metadata": {},
   "source": [
    "- Tokenization and Padding: \n",
    "\n",
    "    <div style=\"text-align: justify;\">The text data, consisting of customer reviews, undergoes tokenization, which involves breaking down the text into individual words or tokens. This process is essential for the model to understand and process the textual data. Additionally, padding is applied to ensure that all sequences have the same length, which is necessary for the model's input layer to process the data efficiently.</div>\n",
    "<div style=\"text-align: justify;\">\n",
    "In the below step, we utilize Keras's Tokenizer and sequence padding functionalities to preprocess the text data. The Tokenizer is initialized to tokenize the reviews, removing punctuations and special characters. It further limits the vocabulary size to the top 20,000 words. Subsequently, the reviews are tokenized into sequences and padded to ensure uniform length using a maximum sequence length of 60.\n",
    "    </div>"
   ]
  },
  {
   "cell_type": "code",
   "execution_count": 16,
   "id": "473b44aa",
   "metadata": {},
   "outputs": [
    {
     "name": "stdout",
     "output_type": "stream",
     "text": [
      "WARNING:tensorflow:From C:\\Users\\SHREY\\anaconda3\\Lib\\site-packages\\keras\\src\\losses.py:2976: The name tf.losses.sparse_softmax_cross_entropy is deprecated. Please use tf.compat.v1.losses.sparse_softmax_cross_entropy instead.\n",
      "\n"
     ]
    }
   ],
   "source": [
    "from keras.preprocessing.text import Tokenizer\n",
    "from keras.preprocessing.sequence import pad_sequences\n",
    "\n",
    "# Initialize the tokenizer\n",
    "tokenizer = Tokenizer(filters='!\"#$%&()*+,-./:;<=>?@[\\\\]^_`{|}~\\t\\n', lower=True, split=' ', num_words=20000)\n",
    "\n",
    "all_reviews = copyReviews[\"review\"].astype(str).to_list()\n",
    "# Fit tokenizer on the reviews\n",
    "tokenizer.fit_on_texts(all_reviews)\n",
    "\n",
    "# Create DataFrame with word frequencies\n",
    "words = pd.DataFrame.from_dict(tokenizer.word_counts, orient=\"index\", columns=[\"frequency\"])\n",
    "\n",
    "# Tokenize and pad sequences\n",
    "sequences = tokenizer.texts_to_sequences(all_reviews)\n",
    "padded_sequence = pad_sequences(sequences, maxlen=30, padding='post', truncating='post')\n",
    "# Add padded sequences to DataFrame\n",
    "copyReviews[\"sequences\"] = list(padded_sequence)"
   ]
  },
  {
   "cell_type": "code",
   "execution_count": 17,
   "id": "a2866e44",
   "metadata": {},
   "outputs": [
    {
     "data": {
      "text/html": [
       "<div>\n",
       "<style scoped>\n",
       "    .dataframe tbody tr th:only-of-type {\n",
       "        vertical-align: middle;\n",
       "    }\n",
       "\n",
       "    .dataframe tbody tr th {\n",
       "        vertical-align: top;\n",
       "    }\n",
       "\n",
       "    .dataframe thead th {\n",
       "        text-align: right;\n",
       "    }\n",
       "</style>\n",
       "<table border=\"1\" class=\"dataframe\">\n",
       "  <thead>\n",
       "    <tr style=\"text-align: right;\">\n",
       "      <th></th>\n",
       "      <th>name</th>\n",
       "      <th>city</th>\n",
       "      <th>cuisine</th>\n",
       "      <th>rating</th>\n",
       "      <th>numOfReviews</th>\n",
       "      <th>review</th>\n",
       "      <th>price_cheaper</th>\n",
       "      <th>price_higher</th>\n",
       "      <th>price_medium</th>\n",
       "      <th>price_notAvailable</th>\n",
       "      <th>sentiment</th>\n",
       "      <th>sequences</th>\n",
       "    </tr>\n",
       "  </thead>\n",
       "  <tbody>\n",
       "    <tr>\n",
       "      <th>0</th>\n",
       "      <td>Martine of Martine's Table</td>\n",
       "      <td>Amsterdam</td>\n",
       "      <td>French, Dutch, European</td>\n",
       "      <td>5.0</td>\n",
       "      <td>136</td>\n",
       "      <td>Just like home, A Warm Welcome to Wintry Amsterdam</td>\n",
       "      <td>False</td>\n",
       "      <td>False</td>\n",
       "      <td>True</td>\n",
       "      <td>False</td>\n",
       "      <td>1</td>\n",
       "      <td>[68, 120, 142, 5, 217, 300, 16, 6289, 392, 0, 0, 0, 0, 0, 0, 0, 0, 0, 0, 0, 0, 0, 0, 0, 0, 0, 0, 0, 0, 0]</td>\n",
       "    </tr>\n",
       "    <tr>\n",
       "      <th>1</th>\n",
       "      <td>De Silveren Spiegel</td>\n",
       "      <td>Amsterdam</td>\n",
       "      <td>Dutch, European, Vegetarian Friendly, Gluten Free Options</td>\n",
       "      <td>4.5</td>\n",
       "      <td>812</td>\n",
       "      <td>Great food and staff, just perfect</td>\n",
       "      <td>False</td>\n",
       "      <td>True</td>\n",
       "      <td>False</td>\n",
       "      <td>False</td>\n",
       "      <td>1</td>\n",
       "      <td>[3, 1, 4, 35, 68, 52, 0, 0, 0, 0, 0, 0, 0, 0, 0, 0, 0, 0, 0, 0, 0, 0, 0, 0, 0, 0, 0, 0, 0, 0]</td>\n",
       "    </tr>\n",
       "  </tbody>\n",
       "</table>\n",
       "</div>"
      ],
      "text/plain": [
       "                         name       city  \\\n",
       "0  Martine of Martine's Table  Amsterdam   \n",
       "1         De Silveren Spiegel  Amsterdam   \n",
       "\n",
       "                                                     cuisine  rating  \\\n",
       "0                                    French, Dutch, European     5.0   \n",
       "1  Dutch, European, Vegetarian Friendly, Gluten Free Options     4.5   \n",
       "\n",
       "   numOfReviews                                              review  \\\n",
       "0           136  Just like home, A Warm Welcome to Wintry Amsterdam   \n",
       "1           812                  Great food and staff, just perfect   \n",
       "\n",
       "   price_cheaper  price_higher  price_medium  price_notAvailable  sentiment  \\\n",
       "0          False         False          True               False          1   \n",
       "1          False          True         False               False          1   \n",
       "\n",
       "                                                                                                   sequences  \n",
       "0  [68, 120, 142, 5, 217, 300, 16, 6289, 392, 0, 0, 0, 0, 0, 0, 0, 0, 0, 0, 0, 0, 0, 0, 0, 0, 0, 0, 0, 0, 0]  \n",
       "1              [3, 1, 4, 35, 68, 52, 0, 0, 0, 0, 0, 0, 0, 0, 0, 0, 0, 0, 0, 0, 0, 0, 0, 0, 0, 0, 0, 0, 0, 0]  "
      ]
     },
     "execution_count": 17,
     "metadata": {},
     "output_type": "execute_result"
    }
   ],
   "source": [
    "copyReviews.head(2)"
   ]
  },
  {
   "cell_type": "markdown",
   "id": "625e130c",
   "metadata": {},
   "source": [
    "### 3. Data Exploration"
   ]
  },
  {
   "cell_type": "markdown",
   "id": "8892e936",
   "metadata": {},
   "source": [
    "\n",
    "\n",
    "<div style=\"text-align: justify;\">\n",
    "                                                                                                                              \n",
    "This exploration provides an initial understanding of the dataset's structure and the type of information it contains. Further study can reveal more insights about the restaurants and their attributes.\n",
    "The dataset contains information about restaurants, including their name, city, cuisine style, ranking, rating, price range, number of reviews, reviews, URL on TripAdvisor, and TripAdvisor ID.\n",
    "\n",
    "</div>"
   ]
  },
  {
   "cell_type": "code",
   "execution_count": 18,
   "id": "d855a4d6",
   "metadata": {
    "scrolled": true
   },
   "outputs": [
    {
     "name": "stdout",
     "output_type": "stream",
     "text": [
      "<class 'pandas.core.frame.DataFrame'>\n",
      "Index: 96636 entries, 0 to 125451\n",
      "Data columns (total 12 columns):\n",
      " #   Column              Non-Null Count  Dtype  \n",
      "---  ------              --------------  -----  \n",
      " 0   name                96636 non-null  object \n",
      " 1   city                96636 non-null  object \n",
      " 2   cuisine             96636 non-null  object \n",
      " 3   rating              96636 non-null  float64\n",
      " 4   numOfReviews        96636 non-null  int32  \n",
      " 5   review              96636 non-null  object \n",
      " 6   price_cheaper       96636 non-null  bool   \n",
      " 7   price_higher        96636 non-null  bool   \n",
      " 8   price_medium        96636 non-null  bool   \n",
      " 9   price_notAvailable  96636 non-null  bool   \n",
      " 10  sentiment           96636 non-null  int64  \n",
      " 11  sequences           96636 non-null  object \n",
      "dtypes: bool(4), float64(1), int32(1), int64(1), object(5)\n",
      "memory usage: 6.6+ MB\n"
     ]
    }
   ],
   "source": [
    "# Displaying summary information about the restReviews DataFrame\n",
    "copyReviews.info()"
   ]
  },
  {
   "cell_type": "markdown",
   "id": "6b25e348",
   "metadata": {},
   "source": [
    "- __Create histogram for ratings__\n",
    "\n",
    "    This plot gives an overview of how ratings are distributed across the dataset, providing insights into the distribution of customer ratings for restaurants."
   ]
  },
  {
   "cell_type": "code",
   "execution_count": 19,
   "id": "482d5be1",
   "metadata": {},
   "outputs": [
    {
     "data": {
      "image/png": "[encoded data removed]",
      "text/plain": [
       "<Figure size 600x400 with 1 Axes>"
      ]
     },
     "metadata": {},
     "output_type": "display_data"
    }
   ],
   "source": [
    "# Filter out rows with missing values in the 'Rating' column\n",
    "filtered_reviews = copyReviews['rating'].dropna()\n",
    "\n",
    "plt.figure(figsize=(6, 4))\n",
    "plt.hist(filtered_reviews, bins=30, color='skyblue', edgecolor='black')\n",
    "plt.title('Distribution of Ratings')\n",
    "plt.xlabel('Rating')\n",
    "plt.ylabel('Frequency')\n",
    "plt.grid(True, linestyle='--')\n",
    "plt.show()"
   ]
  },
  {
   "cell_type": "markdown",
   "id": "4366157c",
   "metadata": {},
   "source": [
    "The histogram above illustrates the distribution of ratings in the dataset, showcasing the frequency of different rating values. With a peak towards higher ratings, particularly at 3.5, 4, and 4.5 stars, it's evident that a significant proportion of the reviewed restaurants have received positive ratings."
   ]
  },
  {
   "cell_type": "code",
   "execution_count": 20,
   "id": "45642052",
   "metadata": {},
   "outputs": [
    {
     "data": {
      "text/plain": [
       "rating\n",
       " 4.0    0.358293\n",
       " 4.5    0.285380\n",
       " 3.5    0.178236\n",
       " 5.0    0.075355\n",
       " 3.0    0.067470\n",
       " 2.5    0.020779\n",
       " 2.0    0.008734\n",
       " 1.0    0.002866\n",
       " 1.5    0.002763\n",
       "-1.0    0.000124\n",
       "Name: proportion, dtype: float64"
      ]
     },
     "execution_count": 20,
     "metadata": {},
     "output_type": "execute_result"
    }
   ],
   "source": [
    "# Relative frequencies of Ratings\n",
    "copyReviews[\"rating\"].value_counts(normalize=True).sort_values(ascending=False)"
   ]
  },
  {
   "cell_type": "markdown",
   "id": "c0fc4f1f",
   "metadata": {},
   "source": [
    "<div style=\"text-align: justify;\">The distribution of restaurant ratings in the dataset reveals a notable skew towards positive reviews. Over 70% of ratings are 3.5 stars or higher, indicating a general inclination towards positive feedback. Conversely, extreme negative ratings are relatively rare, collectively comprising less than 2% of the dataset. This suggests that while positive experiences are common, extremely negative experiences are less frequent. Further exploration may uncover additional insights into the underlying factors influencing these ratings and potential biases in the review process.</div>"
   ]
  },
  {
   "cell_type": "markdown",
   "id": "c10cc15f",
   "metadata": {},
   "source": [
    "- __Analysis of Review Texts by Rating__\n",
    "\n",
    "<div style=\"text-align: justify;\">\n",
    "    \n",
    "In analyzing the reviews, we tokenized the text and removed stopwords to focus on meaningful words. For ratings of particular interest, we printed the most common words associated with each rating. This approach allowed us to identify prevalent themes or sentiments expressed in reviews across different rating categories.</div>"
   ]
  },
  {
   "cell_type": "code",
   "execution_count": 21,
   "id": "4d5198c5",
   "metadata": {},
   "outputs": [
    {
     "name": "stdout",
     "output_type": "stream",
     "text": [
      "Rating: 5.0\n",
      "[('great', 2066), ('food', 1724), ('best', 1195), ('place', 997), ('good', 749)]\n",
      "\n",
      "Rating: 3.0\n",
      "[('food', 1696), ('good', 1659), ('service', 863), ('great', 840), ('nice', 789)]\n",
      "\n",
      "Rating: 1.0\n",
      "[('food', 45), ('worst', 34), ('service', 33), ('terrible', 27), ('avoid', 25)]\n",
      "\n"
     ]
    }
   ],
   "source": [
    "from collections import Counter\n",
    "from nltk.corpus import stopwords\n",
    "from nltk.tokenize import word_tokenize\n",
    "# Tokenize the reviews and remove stopwords\n",
    "stop_words = set(stopwords.words('english'))\n",
    "\n",
    "# Dictionary to store word counts for each rating\n",
    "word_counts = {rating: Counter() for rating in copyReviews['rating'].unique()}\n",
    "for index, row in copyReviews.iterrows():\n",
    "    rating = row['rating']\n",
    "    review = row['review']\n",
    "    tokens = word_tokenize(review.lower())\n",
    "    filtered_tokens = [token for token in tokens if token.isalpha() and token not in stop_words]\n",
    "    word_counts[rating].update(filtered_tokens)\n",
    "\n",
    "ratings_of_interest = [5.0, 3.0, 1.0]\n",
    "# Print the most common words for rating\n",
    "for rating, counts in word_counts.items():\n",
    "    if rating in ratings_of_interest:\n",
    "        print(f\"Rating: {rating}\")\n",
    "        print(counts.most_common(5))\n",
    "        print()"
   ]
  },
  {
   "cell_type": "markdown",
   "id": "4cf85094",
   "metadata": {},
   "source": [
    "<div style=\"text-align: justify;\">\n",
    "The most common words associated with different ratings are identified. For instance, among reviews rated 5.0, terms like 'great', 'food', and 'best' are frequently used, indicating highly positive experiences. On the other hand, reviews rated 1.0 often include terms like 'worst', 'terrible', and 'avoid', indicating extremely negative experiences. Understanding these patterns provides insights into customers' sentiments and preferences regarding restaurant experiences at different rating levels.\n",
    "    </div>"
   ]
  },
  {
   "cell_type": "markdown",
   "id": "4edabd2a",
   "metadata": {},
   "source": [
    "<div style=\"text-align: justify;\">\n",
    "The sentiment labeling process involves categorizing reviews based on their associated ratings. By doing so, it enables an examination of the sentiment distribution within the dataset. This analysis yields valuable insights into the overall sentiment distribution, facilitating a deeper understanding of customer perceptions and satisfaction levels.\n",
    "    </div>"
   ]
  },
  {
   "cell_type": "code",
   "execution_count": 22,
   "id": "3acd52f9",
   "metadata": {},
   "outputs": [
    {
     "name": "stdout",
     "output_type": "stream",
     "text": [
      "Positive sentiment:  86708 reviews ( 89.73 % )\n",
      "Average sentiment:  9928 reviews ( 10.27 % )\n"
     ]
    }
   ],
   "source": [
    "positive = len(copyReviews[copyReviews[\"sentiment\"]==1])\n",
    "average = len(copyReviews[copyReviews[\"sentiment\"]==0])\n",
    "total = len(copyReviews)\n",
    "\n",
    "print(\"Positive sentiment: \",str(positive),\"reviews (\",str(round(positive/total*100,2)),\"% )\")\n",
    "print(\"Average sentiment: \",str(average),\"reviews (\",str(round(average/total*100,2)),\"% )\")"
   ]
  },
  {
   "cell_type": "markdown",
   "id": "9606ebd3",
   "metadata": {},
   "source": [
    "Based on the above output, it can be observed that the majority of reviews are classified as having a positive sentiment. Specifically, there are 86,708 reviews (89.73%) categorized as positive sentiment, while 9,928 reviews (10.27%) are classified as average sentiment. This indicates a predominance of positive perceptions among the reviews analyzed."
   ]
  },
  {
   "cell_type": "markdown",
   "id": "0a1c9645",
   "metadata": {},
   "source": [
    "## Method\n",
    "### Classifier based on Artificial Neural Networks"
   ]
  },
  {
   "cell_type": "markdown",
   "id": "2b8dca7c",
   "metadata": {},
   "source": [
    "<div style=\"text-align: justify;\">\n",
    "Classifier based on Artificial Neural Networks (ANNs) for sentiment analysis involves constructing a neural network architecture within a Sequential model, a standard approach facilitated by the Keras library in Python. They consist of interconnected nodes, or neurons, organized in layers. ANNs have gained popularity in machine learning and artificial intelligence for their ability to learn complex patterns and relationships from data. The process begins with tokenized word representations, requiring additional layers within the network to handle this integer-based input.</div>\n"
   ]
  },
  {
   "cell_type": "markdown",
   "id": "18811eff",
   "metadata": {},
   "source": [
    "<div style=\"text-align: justify;\">\n",
    "Data is split into training and testing sets, which is essential for training and evaluating the machine learning model. The features (X) consist of the padded sequences of tokenized reviews, while the target variable (y) represents the sentiment labels. The data is divided, with a test size of 20% and a specified random state for reproducibility.</div>"
   ]
  },
  {
   "cell_type": "code",
   "execution_count": 23,
   "id": "32a93822",
   "metadata": {},
   "outputs": [],
   "source": [
    "from sklearn.model_selection import train_test_split\n",
    "\n",
    "# Extract features (X) and target variable (y)\n",
    "X = np.array(copyReviews['sequences'].tolist())\n",
    "y = np.array(copyReviews['sentiment'].tolist())\n",
    "\n",
    "# Split the data into training and testing sets\n",
    "X_train, X_test, y_train, y_test = train_test_split(X, y, test_size=0.2, random_state=28)"
   ]
  },
  {
   "cell_type": "markdown",
   "id": "66939f8d",
   "metadata": {},
   "source": [
    "By examining the distribution of sentiment classes in the training set, we can determine if there is an imbalance between the classes. Class imbalances can impact the model's ability to learn effectively, particularly if one class is significantly underrepresented. Understanding the distribution helps inform decisions regarding model evaluation and potential strategies for addressing class imbalances, such as resampling techniques or class weights during model training."
   ]
  },
  {
   "cell_type": "code",
   "execution_count": 24,
   "id": "8848bd65-773e-4c33-8670-9abedee3f1cc",
   "metadata": {},
   "outputs": [
    {
     "name": "stdout",
     "output_type": "stream",
     "text": [
      "{'Sentiment 0': 7960, 'Sentiment 1': 69348}\n"
     ]
    }
   ],
   "source": [
    "# Count the number of samples for each sentiment class in the training set\n",
    "test_sentiment_counts = {\n",
    "    'Sentiment 0': np.sum(y_train == 0),\n",
    "    'Sentiment 1': np.sum(y_train == 1)\n",
    "}\n",
    "print(test_sentiment_counts)"
   ]
  },
  {
   "cell_type": "markdown",
   "id": "32f7c87b",
   "metadata": {},
   "source": [
    "<div style=\"text-align: justify;\">\n",
    "The above output indicates that there is a class imbalance in the dataset, with significantly more samples belonging to 'Sentiment 1' compared to 'Sentiment 0'.  Addressing this class imbalance is crucial to prevent the model from being biased towards the majority class during training. Strategies such as stratified sampling, class weighting, or resampling techniques can be employed to mitigate this imbalance and enhance the model's ability to generalize across both sentiment classes. By ensuring that the model is trained on a balanced representation of both classes, we aim to improve its overall performance and predictive capability.</div>"
   ]
  },
  {
   "cell_type": "code",
   "execution_count": 25,
   "id": "c3513504-20c0-4da8-973a-039007969265",
   "metadata": {},
   "outputs": [
    {
     "name": "stdout",
     "output_type": "stream",
     "text": [
      "{0: 69348, 1: 69348}\n"
     ]
    }
   ],
   "source": [
    "from imblearn.over_sampling import SMOTE\n",
    "\n",
    "# Initialize the SMOTE object\n",
    "smote = SMOTE(sampling_strategy='auto', random_state=28)\n",
    "\n",
    "# Apply SMOTE to oversample the minority classes\n",
    "X_train_resampled, y_train_resampled = smote.fit_resample(X_train, y_train)\n",
    "unique, counts = np.unique(y_train_resampled, return_counts=True)\n",
    "print(dict(zip(unique, counts)))"
   ]
  },
  {
   "cell_type": "markdown",
   "id": "3a88af7b",
   "metadata": {},
   "source": [
    "<div style=\"text-align: justify;\">\n",
    "The SMOTE (Synthetic Minority Over-sampling Technique) algorithm has been applied to oversample the minority classes in the dataset. After applying SMOTE, the minority classes have been balanced with the majority class. Now, class 0 and class 1 have the same number of samples. This balancing of classes helps address the issue of class imbalance in the dataset, which can improve the performance of machine learning models trained on imbalanced data.\n",
    "    </div>"
   ]
  },
  {
   "cell_type": "code",
   "execution_count": 26,
   "id": "2bccb6ec",
   "metadata": {},
   "outputs": [
    {
     "name": "stdout",
     "output_type": "stream",
     "text": [
      "X_train sample (138696, 30)\n",
      "y_train Sample (138696,)\n"
     ]
    }
   ],
   "source": [
    "# Print a sample sequence and its length\n",
    "print(\"X_train sample\", X_train_resampled.shape)\n",
    "print(\"y_train Sample\", y_train_resampled.shape)"
   ]
  },
  {
   "cell_type": "markdown",
   "id": "2c8d8f50",
   "metadata": {},
   "source": [
    "#### The implementation process involves three major steps:\n",
    "\n",
    "- Model Definition: \n",
    "<div style=\"text-align: justify;\">\n",
    "    The architecture of the model is defined in this step. It consists of layers, which includes embedding, GRU (Gated Recurrent Unit), and densely connected layers. To handle the tokenized word representations, an input Embedding layer is incorporated into the artificial neural network (ANN). This layer converts input text data into dense vectors while maintaining semantic relationships. The layers.Embedding() function is utilized with specific arguments: the vocabulary, designated as the first parameter, and the dimension of the layer output, indicating the number of parameters to accommodate. Additionally, the input_length parameter specifies the length of the input vector, as determined in the pad_sequence() function. The output of the Embedding layer, which is 2D, is flattened into a 1D vector using the layers.Flatten() function to align with the existing ANN structure.</div>\n",
    "    "
   ]
  },
  {
   "cell_type": "markdown",
   "id": "a4eb2225",
   "metadata": {},
   "source": [
    "\n",
    "Following the integration of tokenized representations, the architecture of the neural network for sentiment analysis is constructed within a Sequential model. The vocabulary size is set to __*20,000*__ words, and the sequence length is fixed at **_30_**. Subsequent to the Embedding layer, a GRU layer is employed to capture sequential dependencies within the input data. The output from the GRU layer is then flattened and forwarded through two dense layers, each equipped with **ReLU** activation functions and L2 regularization to introduce non-linearity and prevent overfitting. The use of ReLU activation functions offers the advantage of efficient training by mitigating the vanishing gradient problem, while L2 regularization helps control overfitting. The final dense layer consists of a single unit with a **sigmoid** activation function, which is commonly used for binary classification tasks. It produces the model's output, representing the predicted sentiment of the input text.\n",
    "\n",
    "<div style=\"text-align: justify;\">\n",
    "The model is compiled using the Adam optimizer, binary cross-entropy loss function, and accuracy as the evaluation metric. The Adam optimizer is chosen for its adaptive learning rate optimization algorithm, which is effective in training deep neural networks. Binary cross-entropy loss function is suitable for binary classification tasks, as it measures the difference between probability distributions of the predicted and actual classes. Accuracy is used as the evaluation metric to assess the performance of the model in correctly classifying sentiment labels.</div>"
   ]
  },
  {
   "cell_type": "code",
   "execution_count": 27,
   "id": "09f266eb",
   "metadata": {},
   "outputs": [
    {
     "name": "stdout",
     "output_type": "stream",
     "text": [
      "WARNING:tensorflow:From C:\\Users\\SHREY\\anaconda3\\Lib\\site-packages\\keras\\src\\backend.py:277: The name tf.reset_default_graph is deprecated. Please use tf.compat.v1.reset_default_graph instead.\n",
      "\n",
      "WARNING:tensorflow:From C:\\Users\\SHREY\\anaconda3\\Lib\\site-packages\\keras\\src\\optimizers\\__init__.py:309: The name tf.train.Optimizer is deprecated. Please use tf.compat.v1.train.Optimizer instead.\n",
      "\n",
      "Model: \"sequential\"\n",
      "_________________________________________________________________\n",
      " Layer (type)                Output Shape              Param #   \n",
      "=================================================================\n",
      " embedding (Embedding)       (None, 30, 32)            640000    \n",
      "                                                                 \n",
      " gru (GRU)                   (None, 30, 32)            6336      \n",
      "                                                                 \n",
      " flatten (Flatten)           (None, 960)               0         \n",
      "                                                                 \n",
      " dense (Dense)               (None, 32)                30752     \n",
      "                                                                 \n",
      " dense_1 (Dense)             (None, 8)                 264       \n",
      "                                                                 \n",
      " dense_2 (Dense)             (None, 1)                 9         \n",
      "                                                                 \n",
      "=================================================================\n",
      "Total params: 677361 (2.58 MB)\n",
      "Trainable params: 677361 (2.58 MB)\n",
      "Non-trainable params: 0 (0.00 Byte)\n",
      "_________________________________________________________________\n"
     ]
    }
   ],
   "source": [
    "from keras.models import Sequential\n",
    "from keras.layers import Embedding, GRU, Dense\n",
    "from keras import layers, regularizers\n",
    "from keras.backend import clear_session\n",
    "\n",
    "clear_session()\n",
    "\n",
    "# Define the model architecture\n",
    "model = Sequential()\n",
    "model.add(layers.Embedding(input_dim=20000, output_dim=32,input_length=30))\n",
    "model.add(GRU(units=32, return_sequences=True))\n",
    "model.add(layers.Flatten())\n",
    "model.add(layers.Dense(units=32, activation='relu', kernel_regularizer=regularizers.l2(0.01)))\n",
    "model.add(layers.Dense(units=8, activation='relu', kernel_regularizer=regularizers.l2(0.01)))\n",
    "model.add(layers.Dense(units=1, activation='sigmoid'))\n",
    "\n",
    "model.compile(optimizer='adam', loss='binary_crossentropy', metrics=['accuracy'])\n",
    "\n",
    "# Print model summary\n",
    "model.summary()\n"
   ]
  },
  {
   "cell_type": "markdown",
   "id": "381b2c7d",
   "metadata": {},
   "source": [
    "<div style=\"text-align: justify;\">\n",
    "In the model summary, we present the architecture of our neural network designed for sentiment analysis. The model consists of several layers. The total number of trainable parameters in the model is 677,361, with no non-trainable parameters. This model architecture is optimized for sentiment analysis tasks, leveraging its various layers to effectively process and classify textual data.</div>"
   ]
  },
  {
   "cell_type": "markdown",
   "id": "4efcc272",
   "metadata": {},
   "source": [
    "- Training\n",
    "<div style=\"text-align: justify;\">\n",
    "    Once the model architecture is defined, the model is trained using the training dataset. During training, the model learns to adjust its parameters to minimize the loss function, which measures the difference between the predicted and actual values. The training process involves iterating through the dataset multiple times (epochs) and updating the model's parameters based on the error calculated during each iteration.</div>\n",
    "<div style=\"text-align: justify;\">\n",
    "The model is trained on the resampled training dataset using the fit() function. During training, the model undergoes 12 epochs, with each epoch processing a full pass over the entire dataset. The training data is divided into batches, with each batch containing 500 samples. This batching approach helps in efficient computation and optimization. Moreover, a 30% validation split is employed, allowing a portion of the training data to be used for validation purposes to monitor the model's performance on unseen data and prevent overfitting.</div>"
   ]
  },
  {
   "cell_type": "code",
   "execution_count": 28,
   "id": "2a2907bd",
   "metadata": {},
   "outputs": [
    {
     "name": "stdout",
     "output_type": "stream",
     "text": [
      "Epoch 1/12\n",
      "WARNING:tensorflow:From C:\\Users\\SHREY\\anaconda3\\Lib\\site-packages\\keras\\src\\utils\\tf_utils.py:492: The name tf.ragged.RaggedTensorValue is deprecated. Please use tf.compat.v1.ragged.RaggedTensorValue instead.\n",
      "\n",
      "WARNING:tensorflow:From C:\\Users\\SHREY\\anaconda3\\Lib\\site-packages\\keras\\src\\engine\\base_layer_utils.py:384: The name tf.executing_eagerly_outside_functions is deprecated. Please use tf.compat.v1.executing_eagerly_outside_functions instead.\n",
      "\n",
      "222/222 [==============================] - 13s 45ms/step - loss: 0.7442 - accuracy: 0.6715 - val_loss: 0.8826 - val_accuracy: 0.5117\n",
      "Epoch 2/12\n",
      "222/222 [==============================] - 9s 42ms/step - loss: 0.5375 - accuracy: 0.7551 - val_loss: 0.7371 - val_accuracy: 0.6285\n",
      "Epoch 3/12\n",
      "222/222 [==============================] - 10s 43ms/step - loss: 0.4813 - accuracy: 0.7896 - val_loss: 0.7793 - val_accuracy: 0.6070\n",
      "Epoch 4/12\n",
      "222/222 [==============================] - 9s 42ms/step - loss: 0.4358 - accuracy: 0.8143 - val_loss: 0.6489 - val_accuracy: 0.6856\n",
      "Epoch 5/12\n",
      "222/222 [==============================] - 9s 42ms/step - loss: 0.3793 - accuracy: 0.8449 - val_loss: 0.4842 - val_accuracy: 0.7871\n",
      "Epoch 6/12\n",
      "222/222 [==============================] - 10s 45ms/step - loss: 0.3385 - accuracy: 0.8658 - val_loss: 0.4292 - val_accuracy: 0.8143\n",
      "Epoch 7/12\n",
      "222/222 [==============================] - 10s 47ms/step - loss: 0.3072 - accuracy: 0.8815 - val_loss: 0.4867 - val_accuracy: 0.7888\n",
      "Epoch 8/12\n",
      "222/222 [==============================] - 10s 46ms/step - loss: 0.2829 - accuracy: 0.8930 - val_loss: 0.5065 - val_accuracy: 0.7858\n",
      "Epoch 9/12\n",
      "222/222 [==============================] - 11s 48ms/step - loss: 0.2635 - accuracy: 0.9031 - val_loss: 0.5313 - val_accuracy: 0.7749\n",
      "Epoch 10/12\n",
      "222/222 [==============================] - 10s 44ms/step - loss: 0.2464 - accuracy: 0.9108 - val_loss: 0.4222 - val_accuracy: 0.8180\n",
      "Epoch 11/12\n",
      "222/222 [==============================] - 10s 43ms/step - loss: 0.2369 - accuracy: 0.9148 - val_loss: 0.3195 - val_accuracy: 0.8694\n",
      "Epoch 12/12\n",
      "222/222 [==============================] - 10s 45ms/step - loss: 0.2238 - accuracy: 0.9205 - val_loss: 0.4536 - val_accuracy: 0.8242\n"
     ]
    }
   ],
   "source": [
    "# Train the model\n",
    "history = model.fit(X_train_resampled, y_train_resampled, epochs=12, batch_size=500, validation_split=0.2)"
   ]
  },
  {
   "cell_type": "markdown",
   "id": "fdc4ae18",
   "metadata": {},
   "source": [
    "- Evaluation\n",
    "\n",
    "    After training, the model's performance is evaluated using both the training and testing datasets. Evaluation metrics such as accuracy are computed to assess how well the model generalizes to unseen data. High accuracy on both the training and testing datasets indicates that the model has effectively learned to classify sentiment from the input data. The **evaluate()** function is used to compute the loss and accuracy metrics for each dataset."
   ]
  },
  {
   "cell_type": "code",
   "execution_count": 29,
   "id": "07cfc3dc-216a-469f-af69-f738e7b29d69",
   "metadata": {},
   "outputs": [
    {
     "name": "stdout",
     "output_type": "stream",
     "text": [
      "Training Accuracy: 0.9106\n",
      "Testing Accuracy:  0.8264\n"
     ]
    }
   ],
   "source": [
    "# Evaluate the model on the training and testing set\n",
    "loss, accuracy = model.evaluate(X_train_resampled, y_train_resampled, verbose=False)\n",
    "print(\"Training Accuracy: {:.4f}\".format(accuracy))\n",
    "loss, accuracy = model.evaluate(X_test, y_test, verbose=False)\n",
    "print(\"Testing Accuracy:  {:.4f}\".format(accuracy))"
   ]
  },
  {
   "cell_type": "markdown",
   "id": "f20bf147",
   "metadata": {},
   "source": [
    "- Visualizing Model Performance\n",
    "\n",
    "    Further, we can visualize the model's result through plot. The provided function **plot_result()** is instrumental in visualizing the training and validation performance of our model. By plotting the accuracy and loss curves over successive epochs, we gain insights into the model's learning process and its ability to generalize to unseen data.\n",
    "\n",
    "<div style=\"text-align: justify;\">\n",
    "The left subplot illustrates the trend of training and validation accuracy over epochs, while the right subplot displays the corresponding training and validation loss values. By observing these plots, we can ascertain whether the model is overfitting, underfitting, or converging optimally during training. The accuracy plot depicts how well the model is learning to classify sentiment accurately, with higher values indicating better performance. Conversely, the loss plot indicates the magnitude of errors made by the model during training and validation, with lower values signifying improved performance.</div>"
   ]
  },
  {
   "cell_type": "code",
   "execution_count": 30,
   "id": "26074ffc",
   "metadata": {},
   "outputs": [
    {
     "data": {
      "image/png": "[encoded data removed]",
      "text/plain": [
       "<Figure size 1000x300 with 2 Axes>"
      ]
     },
     "metadata": {},
     "output_type": "display_data"
    }
   ],
   "source": [
    "# Function for plotting the training & validation curves\n",
    "def plot_result(history):\n",
    "    acc = history.history['accuracy']\n",
    "    val_acc = history.history['val_accuracy']\n",
    "    loss = history.history['loss']\n",
    "    val_loss = history.history['val_loss']\n",
    "    x = range(1, len(acc) + 1)\n",
    "\n",
    "    plt.figure(figsize=(10, 3))\n",
    "    plt.subplot(1, 2, 1)\n",
    "    plt.plot(x, acc, label='Training acc')\n",
    "    plt.plot(x, val_acc, label='Validation acc')\n",
    "    plt.title('Training and validation accuracy')\n",
    "    plt.legend()\n",
    "    plt.subplot(1, 2, 2)\n",
    "    plt.plot(x, loss, label='Training loss')\n",
    "    plt.plot(x, val_loss, label='Validation loss')\n",
    "    plt.title('Training and validation loss')\n",
    "    plt.legend()\n",
    "plot_result(history)"
   ]
  },
  {
   "cell_type": "markdown",
   "id": "46ffa3bb",
   "metadata": {},
   "source": [
    "<div style=\"text-align: justify;\">\n",
    "The observed patterns in the validation accuracy and loss plots suggest fluctuations in the model's performance during training. While these fluctuations may be indicative of the model's sensitivity to small changes in the input data or hyperparameters, the fact that the validation metrics closely track the training metrics suggests that the model is effectively generalizing to unseen data.\n",
    "These minor oscillations are common in neural network training and may not necessarily indicate a problem with the model's performance. However, if the oscillations persist or become more pronounced over time, it may be worth investigating potential causes such as learning rate adjustments, batch size modifications, or data preprocessing techniques to stabilize the training process.</div>"
   ]
  },
  {
   "cell_type": "markdown",
   "id": "7f065c3a",
   "metadata": {},
   "source": [
    "### Clustering Analysis of Price Ranges and Sentiment\n",
    "\n",
    "In addition to sentiment analysis, clustering analysis was conducted to explore the relationships between price ranges and customer sentiment. This analysis aimed to uncover patterns in customer preferences based on price and sentiment, providing valuable insights for marketing and product development strategies.\n",
    "\n",
    "- Sentiment Distribution Across Price Ranges\n",
    "\n",
    "    First, we filtered out any entries with missing price information to ensure the integrity of our analysis. Then, we grouped the data by sentiment and various price range indicators, namely 'price_cheaper', 'price_higher', and 'price_medium'. Subsequently, we counted the occurrences within each group to gain insights into the distribution of sentiment across different price ranges."
   ]
  },
  {
   "cell_type": "code",
   "execution_count": 31,
   "id": "83958132",
   "metadata": {},
   "outputs": [
    {
     "name": "stdout",
     "output_type": "stream",
     "text": [
      "   sentiment  price_cheaper  price_higher  price_medium  count\n",
      "0          0          False         False          True   4091\n",
      "1          0          False          True         False    113\n",
      "2          0           True         False         False   1414\n",
      "3          1          False         False          True  46505\n",
      "4          1          False          True         False   3809\n",
      "5          1           True         False         False  15596\n"
     ]
    }
   ],
   "source": [
    "copyReviews = copyReviews[copyReviews['price_notAvailable'] != True]\n",
    "\n",
    "# Group by sentiment and price range, then count occurrences\n",
    "price_sentiment_counts = copyReviews.groupby(['sentiment', 'price_cheaper', 'price_higher', 'price_medium']).size().reset_index(name='count')\n",
    "\n",
    "# Print the counts\n",
    "print(price_sentiment_counts)"
   ]
  },
  {
   "cell_type": "markdown",
   "id": "71a1b6e9",
   "metadata": {},
   "source": [
    "<div style=\"text-align: justify;\">\n",
    "The analysis of sentiment distribution across various price ranges reveals interesting patterns in consumer preferences. For reviews associated with a average sentiment (labeled as 0), the majority (4091) are categorized under the 'price_medium' range, indicating a significant proportion of dissatisfaction in this segment. Conversely, products falling under the 'price_cheaper' category see a notable presence (1414) among average sentiment instances, suggesting that affordability may not always correlate with satisfaction. In contrast, products with positive sentiments (labeled as 1) dominate the 'price_medium' category, with a substantial 46505 occurrences, indicating a strong preference for mid-range priced products among satisfied consumers. Additionally, while fewer occurrences are observed in the 'price_higher' and 'price_cheaper' categories for positive sentiments, their presence highlights the diversity in consumer preferences across different price ranges.</div>"
   ]
  },
  {
   "cell_type": "markdown",
   "id": "79337d8a",
   "metadata": {},
   "source": [
    "The bar plot illustrates the distribution of sentiment across different price ranges, providing insights into consumer preferences within each category. Notably, in the 'price_medium' range, the majority of sentiment occurrences are positive, indicating a higher satisfaction level among consumers."
   ]
  },
  {
   "cell_type": "code",
   "execution_count": 32,
   "id": "1ecc6798",
   "metadata": {},
   "outputs": [
    {
     "data": {
      "image/png": "[encoded data removed]",
      "text/plain": [
       "<Figure size 1200x400 with 3 Axes>"
      ]
     },
     "metadata": {},
     "output_type": "display_data"
    }
   ],
   "source": [
    "# Function to add counts on top of each bar\n",
    "def add_counts(ax):\n",
    "    for p in ax.patches:\n",
    "        ax.annotate(f'{p.get_height()}', (p.get_x() + p.get_width() / 2., p.get_height()), ha='center', va='center', xytext=(0, 5), textcoords='offset points')\n",
    "# Define y limits for each price range\n",
    "y_limits = {'price_higher': 10000, 'price_medium': 50000, 'price_cheaper': 30000}\n",
    "\n",
    "# Create subplots for each price range\n",
    "fig, axs = plt.subplots(1, 3, figsize=(12, 4))\n",
    "\n",
    "# Plot for each price range\n",
    "for i, price_range in enumerate(['price_higher', 'price_medium', 'price_cheaper']):\n",
    "    sns.barplot(data=price_sentiment_counts[price_sentiment_counts[price_range]], x='sentiment', y='count', ax=axs[i])\n",
    "    add_counts(axs[i])\n",
    "    axs[i].set_title(price_range.replace('_', ' ').title())\n",
    "    axs[i].set_xlabel('Sentiment')\n",
    "    axs[i].set_ylabel('Count')\n",
    "    axs[i].set_ylim(0, y_limits[price_range])  # Set y limit based on price range\n",
    "plt.tight_layout()\n",
    "plt.show()"
   ]
  },
  {
   "cell_type": "markdown",
   "id": "44a3d19f",
   "metadata": {},
   "source": [
    "- Clustering Process:\n",
    "\n",
    "    For the clustering analysis, we selected relevant features including sentiment scores and price range indicators. These features were standardized to ensure uniformity in their ranges. Subsequently, the K-means algorithm was applied to cluster the data into distinct groups based on similarity in price ranges and sentiment distributions.\n",
    "\n",
    "<div style=\"text-align: justify;\">\n",
    "The code performs a K-means clustering analysis on the data, aiming to identify distinct clusters based on the selected features. The features are first selected, comprising sentiment along with price categories: cheaper, higher, and medium. These features are then scaled using the StandardScaler to ensure uniformity in their ranges. Next, a K-means model is initialized with three clusters and fitted to the scaled data. Finally, the counts of data points within each cluster are calculated and printed, providing insights into the distribution of samples among the identified clusters. This analysis enables the identification of distinct groupings within the data based on sentiment and price ranges, facilitating further exploration and interpretation of the underlying patterns.</div>"
   ]
  },
  {
   "cell_type": "code",
   "execution_count": 33,
   "id": "49b6c7a7",
   "metadata": {},
   "outputs": [
    {
     "name": "stdout",
     "output_type": "stream",
     "text": [
      "Shape of encoded_data: (71528, 4)\n",
      "Shape of cluster_centers: (3, 4)\n",
      "   sentiment  price_cheaper  price_higher  price_medium\n",
      "0   0.184857      -0.558576      4.151823     -1.554722\n",
      "1  -0.008600      -0.558576     -0.240858      0.643202\n",
      "2  -0.017043       1.790267     -0.240858     -1.554722\n",
      "cluster\n",
      "1    50596\n",
      "2    17010\n",
      "0     3922\n",
      "Name: count, dtype: int64\n"
     ]
    }
   ],
   "source": [
    "from sklearn.cluster import KMeans\n",
    "from sklearn.preprocessing import StandardScaler\n",
    "\n",
    "# Select features for clustering\n",
    "features = ['sentiment','price_cheaper', 'price_higher', 'price_medium']\n",
    "encoded_data = copyReviews[features]\n",
    "\n",
    "# Scale numerical variables if needed\n",
    "scaler = StandardScaler()\n",
    "scaled_data = scaler.fit_transform(encoded_data)\n",
    "\n",
    "# Initialize and fit K-means model\n",
    "kmeans = KMeans(n_clusters=3, random_state=42)  # Adjust number of clusters as needed\n",
    "kmeans.fit(scaled_data)\n",
    "\n",
    "# Add cluster labels to the original DataFrame\n",
    "copyReviews['cluster'] = kmeans.labels_\n",
    "\n",
    "# Concatenate price range columns to cluster_centers\n",
    "cluster_centers = pd.DataFrame(kmeans.cluster_centers_, columns=encoded_data.columns)\n",
    "# cluster_centers = pd.concat([cluster_centers, encoded_price_range.mean().to_frame().T], ignore_index=True)\n",
    "\n",
    "# Debugging: Print shapes of both DataFrames\n",
    "print(\"Shape of encoded_data:\", encoded_data.shape)\n",
    "print(\"Shape of cluster_centers:\", cluster_centers.shape)\n",
    "\n",
    "# Interpret the clusters\n",
    "cluster_counts = copyReviews['cluster'].value_counts()\n",
    "print(cluster_centers)\n",
    "print(cluster_counts)"
   ]
  },
  {
   "cell_type": "markdown",
   "id": "3c73b3d3",
   "metadata": {},
   "source": [
    "- Interpretation of Clusters\n",
    "<div style=\"text-align: justify;\">\n",
    "    The 'encoded_data' DataFrame used for clustering comprises 71,528 samples and four features: sentiment, price_cheaper, price_higher, and price_medium. These features are standardized using the StandardScaler to ensure uniform scaling across different ranges.\n",
    "\n",
    "    1. Cluster 0: This cluster is characterized by a moderately positive sentiment (0.184857) and notable preference for higher price ranges (4.151823), accompanied by a relative disinterest in cheaper and medium price ranges.\n",
    "    2. Cluster 1: Here, the sentiment is close to neutral (-0.008600), with an inclination towards cheaper and medium price ranges. Customers in this cluster seem to have a balanced preference for different price ranges.\n",
    "    3. Cluster 2: This cluster exhibits a slightly negative sentiment (-0.017043) and a distinct preference for cheaper price ranges, while displaying a lesser inclination towards higher and medium price ranges.\n",
    "\n",
    "The cluster sizes indicate that Cluster 1 is the most prevalent, followed by Cluster 2, while Cluster 0 comprises the smallest segment of customers.</div>"
   ]
  },
  {
   "cell_type": "markdown",
   "id": "be8ca172",
   "metadata": {},
   "source": [
    "## Results\n",
    "\n",
    "### __Sentiment Analysis__\n",
    "\n",
    "For the training dataset, the model achieves an accuracy of approximately **91.07 %**. Similarly, for the testing dataset, the model achieves an accuracy of approximately **84.82 %**. These accuracy values indicate how well the model is able to predict sentiment labels correctly on both seen and unseen data, providing insights into its generalization capability. The high accuracy on the training set indicates that the model effectively learns from the training data and captures underlying patterns in sentiment. Meanwhile, the slightly lower but still impressive accuracy on the testing set suggests that the model generalizes well to new, unseen data, indicating its robustness and ability to make accurate predictions in real-world scenarios. However, it's essential to note that achieving higher accuracy on the training set compared to the testing set may indicate some level of overfitting, where the model may be capturing noise or specific patterns in the training data that do not generalize well."
   ]
  },
  {
   "cell_type": "markdown",
   "id": "b207c01b",
   "metadata": {},
   "source": [
    "<div style=\"text-align: justify;\">\n",
    "The below metrics provide insights into the performance of the model in terms of its ability to correctly classify positive instances (precision), its ability to capture all positive instances (recall), and the balance between precision and recall (F1 score). Precision was found to be 0.9387. Recall was calculated as 0.8941. In this case, the F1 score was determined to be 0.9159, suggesting that the model performs well in both identifying positive instances and avoiding false positives. These metrics collectively demonstrate the model's effectiveness in accurately classifying sentiment within the dataset.</div>"
   ]
  },
  {
   "cell_type": "code",
   "execution_count": 34,
   "id": "4ef4a7c3",
   "metadata": {},
   "outputs": [
    {
     "name": "stdout",
     "output_type": "stream",
     "text": [
      "604/604 [==============================] - 4s 5ms/step\n",
      "Precision: 0.9267\n",
      "Recall: 0.8760\n",
      "F1 Score: 0.9006\n"
     ]
    }
   ],
   "source": [
    "# Calculate predictions\n",
    "from sklearn.metrics import precision_score, recall_score, f1_score\n",
    "\n",
    "#Predictions\n",
    "y_pred = model.predict(X_test)\n",
    "y_pred_classes = (y_pred > 0.5).astype(int)\n",
    "\n",
    "precision = precision_score(y_test, y_pred_classes)\n",
    "recall = recall_score(y_test, y_pred_classes)\n",
    "f1 = f1_score(y_test, y_pred_classes)\n",
    "\n",
    "print(\"Precision: {:.4f}\".format(precision))\n",
    "print(\"Recall: {:.4f}\".format(recall))\n",
    "print(\"F1 Score: {:.4f}\".format(f1))"
   ]
  },
  {
   "cell_type": "markdown",
   "id": "bb07d7be",
   "metadata": {},
   "source": [
    "- Confusion matrix\n",
    "<div style=\"text-align: justify;\">\n",
    "    We generated a confusion matrix to further analyze the performance of our sentiment analysis model. The confusion matrix provides insight into the classification results by comparing predicted labels against true labels. The matrix is visualized using a heatmap, with annotations indicating the frequency of each classification outcome. The x-axis represents the predicted labels, while the y-axis represents the true labels. The confusion matrix allows us to assess the model's ability to correctly classify sentiments as either 'Average' or 'Positive'. This visualization aids in understanding the distribution of classification errors and identifying any patterns in misclassifications.</div>"
   ]
  },
  {
   "cell_type": "code",
   "execution_count": 35,
   "id": "7e20ef6b-3240-4674-b691-a91fd712bb45",
   "metadata": {},
   "outputs": [
    {
     "data": {
      "image/png": "[encoded data removed]",
      "text/plain": [
       "<Figure size 500x300 with 1 Axes>"
      ]
     },
     "metadata": {},
     "output_type": "display_data"
    }
   ],
   "source": [
    "from sklearn.metrics import confusion_matrix\n",
    "\n",
    "# Generate confusion matrix\n",
    "conf_matrix = confusion_matrix(y_test, y_pred_classes)\n",
    "\n",
    "# Plot confusion matrix\n",
    "plt.figure(figsize=(5, 3))\n",
    "sns.heatmap(conf_matrix, annot=True, fmt='d', cmap='Blues', cbar=False, \n",
    "            xticklabels=['Average', 'Positive'], \n",
    "            yticklabels=['Average', 'Positive'])\n",
    "plt.xlabel('Predicted labels')\n",
    "plt.ylabel('True labels')\n",
    "plt.title('Confusion Matrix')\n",
    "plt.show()"
   ]
  },
  {
   "cell_type": "markdown",
   "id": "e00d6632",
   "metadata": {},
   "source": [
    "<div style=\"text-align: justify;\">\n",
    "From the matrix, we can observe that the model correctly classified 319 instances of 'Average' sentiment and 11,816 instances of 'Positive' sentiment. However, it misclassified 1,400 instances of 'Average' sentiment as 'Positive' and 771 instances of 'Positive' sentiment as 'Average'. The high number of correctly classified instances of 'Positive' sentiment suggests that the model is effective in identifying positive sentiments in the text data. However, the misclassification of instances, particularly the relatively high number of instances of 'Average' sentiment being classified as 'Positive', indicates areas for improvement.\n",
    "\n",
    "Continuous evaluation and refinement of the model based on feedback from real-world data would be essential for further improving its accuracy and robustness in sentiment analysis tasks.</div>"
   ]
  },
  {
   "cell_type": "markdown",
   "id": "a692f86c",
   "metadata": {},
   "source": [
    "### __Clustering Analysis__"
   ]
  },
  {
   "cell_type": "markdown",
   "id": "02718716",
   "metadata": {},
   "source": [
    "<div style=\"text-align: justify;\">\n",
    "The clustering analysis unveiled distinct customer segments based on their sentiment towards restaurant reviews and their preference for different price ranges. Cluster 0 comprises customers with a notably positive sentiment, indicating satisfaction, coupled with a strong inclination towards higher-priced offerings. These individuals likely prioritize quality and luxury experiences. In contrast, Cluster 1 represents a larger segment characterized by customers with a sentiment close to neutral, demonstrating a balanced preference for both cheaper and medium-priced options. This segment encompasses a diverse range of customers, suggesting the importance of offering a variety of price points to accommodate their varying budget needs and preferences effectively. Furthermore, Cluster 2 represents a distinct customer segment with a slightly negative sentiment towards reviews, coupled with a clear preference for cheaper price ranges. These customers prioritize affordability over other factors.</div>\n",
    "\n",
    "<div style=\"text-align: justify;\">  \n",
    "In terms of cluster sizes, Cluster 1 emerges as the largest segment, indicating the prevalence of customers with a neutral sentiment and diverse price preferences. Cluster 2 follows as the second-largest segment, highlighting the significance of catering to price-sensitive consumers. Lastly, Cluster 0 represents the smallest segment, comprising customers with a highly positive sentiment and a preference for premium offerings.</div>"
   ]
  },
  {
   "cell_type": "code",
   "execution_count": 36,
   "id": "61364e1b",
   "metadata": {},
   "outputs": [
    {
     "data": {
      "text/plain": [
       "<Figure size 1000x1000 with 0 Axes>"
      ]
     },
     "metadata": {},
     "output_type": "display_data"
    },
    {
     "data": {
      "image/png": "[encoded data removed]",
      "text/plain": [
       "<Figure size 640x480 with 1 Axes>"
      ]
     },
     "metadata": {},
     "output_type": "display_data"
    }
   ],
   "source": [
    "# Bar plot for cluster centers\n",
    "plt.figure(figsize=(10, 10)) \n",
    "cluster_centers.plot(kind='bar')\n",
    "plt.title('Cluster Centers')\n",
    "plt.xlabel('Cluster')\n",
    "plt.ylabel('Feature Value')\n",
    "plt.xticks(rotation=0)\n",
    "plt.legend(title='Feature')\n",
    "plt.show()"
   ]
  },
  {
   "cell_type": "markdown",
   "id": "737cc4d0",
   "metadata": {},
   "source": [
    "<div style=\"text-align: justify;\">\n",
    "The bar plot above illustrates the cluster centers for each feature within the clusters. Each bar represents the feature value within a specific cluster, allowing for a visual comparison across clusters.\n",
    "The plot displays three clusters represented on the x-axis, labeled as Cluster 0, Cluster 1, and Cluster 2. Each cluster is associated with four features: sentiment, price_cheaper, price_higher, and price_medium, depicted by the different colored bars.\n",
    "</div>\n",
    "This insight reveals distinct purchasing behaviors among the clusters, with Cluster 0 representing customers who prioritize higher-priced products, while Clusters 1 and 2 demonstrate preferences for cheaper or medium-priced items."
   ]
  },
  {
   "cell_type": "markdown",
   "id": "f8c1e2d9",
   "metadata": {},
   "source": [
    "## Conclusion"
   ]
  },
  {
   "cell_type": "markdown",
   "id": "1cac4049",
   "metadata": {},
   "source": [
    "\n",
    "We conducted sentiment analysis on restaurant reviews to uncover customer perceptions and explore their relationship with various factors, including price range. Sentiment labels were assigned to the reviews based on their ratings, categorizing them as either positive or average sentiments. Analysis revealed a predominance of positive sentiments among the reviews analyzed, indicating a general inclination towards positive feedback in the dataset. The sentiment analysis model, built using an Artificial Neural Network (ANN), achieved an accuracy of approximately 84.82 % on testing datasets, showcasing its effectiveness in classifying sentiment from review text."
   ]
  },
  {
   "cell_type": "markdown",
   "id": "cf6f7681",
   "metadata": {},
   "source": [
    "In addition to sentiment analysis, clustering analysis was conducted to explore the relationships between price ranges and customer sentiment. The analysis revealed distinct clusters representing different customer segments based on sentiment and price range preferences. Cluster 0 showed a preference for higher-priced items, Cluster 1 and 2 exhibited a balanced preference across price ranges. These insights can guide marketing strategies and product offerings tailored to different customer segments, thereby enhancing customer satisfaction and driving sales. Our analysis provides valuable insights into customer sentiments and preferences within the restaurant industry. By understanding these dynamics, businesses can better cater to customer needs, optimize pricing strategies, and improve overall service quality, leading to enhanced competitiveness and sustainable growth."
   ]
  },
  {
   "cell_type": "markdown",
   "id": "15e930ce",
   "metadata": {},
   "source": [
    "\n",
    "To gain a deeper understanding of positive sentiments, we examined the distribution of cuisine styles among positively reviewed restaurants. By splitting cuisine styles into a list and tallying their occurrences, we identified the top 10 most popular cuisines among satisfied customers. Furthermore, we explored the geographic distribution of positive reviews by tallying the number of positive reviews per city. This revealed the top 10 cities with the highest number of positive reviews, providing insights into regional preferences and customer satisfaction levels across different locales.\n",
    "  "
   ]
  },
  {
   "cell_type": "code",
   "execution_count": 37,
   "id": "2d9e3685",
   "metadata": {},
   "outputs": [
    {
     "name": "stdout",
     "output_type": "stream",
     "text": [
      "Top 5 most popular cuisines:\n",
      "Vegetarian Friendly    31061\n",
      "European               24864\n",
      "Mediterranean          15556\n",
      "Italian                13282\n",
      "Vegan Options          12657\n",
      "Name: count, dtype: int64\n",
      "Top 5 cities with the highest number of positive reviews:\n",
      "city\n",
      "London       10730\n",
      "Paris         7986\n",
      "Barcelona     4362\n",
      "Rome          4190\n",
      "Madrid        3521\n",
      "Name: count, dtype: int64\n"
     ]
    }
   ],
   "source": [
    "positive_restaurants = copyReviews[copyReviews['sentiment'] == 1]\n",
    "positive_restaurants.shape\n",
    "\n",
    "# Split the cuisine styles into a list\n",
    "positive_restaurants['cuisine'] = positive_restaurants['cuisine'].str.split(',')\n",
    "\n",
    "# Create a list to store all cuisine styles\n",
    "all_cuisines = []\n",
    "\n",
    "# Iterate over each row and extract cuisine styles\n",
    "for cuisines in positive_restaurants['cuisine']:\n",
    "    all_cuisines.extend(cuisine.strip() for cuisine in cuisines)\n",
    "\n",
    "# Count the occurrences of each cuisine style\n",
    "cuisine_counts = pd.Series(all_cuisines).value_counts()\n",
    "\n",
    "# Print the top 5 most popular cuisines\n",
    "top_cuisines = cuisine_counts.head(5)\n",
    "print(\"Top 5 most popular cuisines:\")\n",
    "print(top_cuisines)\n",
    "\n",
    "# Count the number of positive reviews per city\n",
    "city_positive_review_counts = positive_restaurants['city'].value_counts()\n",
    "\n",
    "# Print the top 5 cities with the highest number of positive reviews\n",
    "top_cities = city_positive_review_counts.head(5)\n",
    "print(\"Top 5 cities with the highest number of positive reviews:\")\n",
    "print(top_cities)"
   ]
  },
  {
   "cell_type": "code",
   "execution_count": 38,
   "id": "d6e69f68",
   "metadata": {
    "scrolled": true
   },
   "outputs": [
    {
     "data": {
      "image/png": "[encoded data removed]",
      "text/plain": [
       "<Figure size 1200x400 with 2 Axes>"
      ]
     },
     "metadata": {},
     "output_type": "display_data"
    }
   ],
   "source": [
    "# Create subplots\n",
    "fig, axs = plt.subplots(1, 2, figsize=(12, 4))\n",
    "\n",
    "# Plot for top cuisines\n",
    "top_cuisines.head(5).sort_values().plot(kind='line', marker='o', ax=axs[0])\n",
    "axs[0].set_title('Top 5 Most Popular Cuisines')\n",
    "axs[0].set_xlabel('Cuisine')\n",
    "axs[0].set_ylabel('Number of Reviews')\n",
    "\n",
    "# Plot for top cities\n",
    "top_cities.head(5).sort_values().plot(kind='line', marker='o', ax=axs[1])\n",
    "axs[1].set_title('Top 5 Cities with the Highest Number of Positive Reviews')\n",
    "axs[1].set_xlabel('City')\n",
    "axs[1].set_ylabel('Number of Positive Reviews')\n",
    "\n",
    "# Adjust layout\n",
    "plt.tight_layout()\n",
    "plt.show()"
   ]
  },
  {
   "cell_type": "markdown",
   "id": "4de604e7",
   "metadata": {},
   "source": [
    "Furthermore, our exploration into the most popular cuisine styles and the distribution of positive reviews across different cities has shed light on key trends within the industry. The top cuisines identified, such as **Vegetarian Friendly, European, and Mediterranean**, highlight the diverse palate of customers, while the concentration of positive reviews in certain cities like **London, Paris and Barcelona** underscores the importance of local preferences and market dynamics.\n",
    "\n",
    "By understanding these dynamics, businesses can tailor their offerings to better align with customer preferences, optimize pricing strategies, and enhance overall customer satisfaction. The geographic patterns can inform marketing strategies, expansion plans, and localized initiatives aimed at enhancing customer engagement and loyalty. The visualizations presented, depicting the top cuisines and cities with the highest number of positive reviews, serve as compelling representations of these insights, facilitating data-driven decision-making for restaurant owners and managers. In essence, our analysis not only provides a deeper understanding of customer sentiments but also offers actionable recommendations for improving business performance and driving sustainable growth in the competitive restaurant industry landscape."
   ]
  },
  {
   "cell_type": "code",
   "execution_count": null,
   "id": "bd3c3002",
   "metadata": {},
   "outputs": [],
   "source": []
  }
 ],
 "metadata": {
  "kernelspec": {
   "display_name": "Python 3 (ipykernel)",
   "language": "python",
   "name": "python3"
  },
  "language_info": {
   "codemirror_mode": {
    "name": "ipython",
    "version": 3
   },
   "file_extension": ".py",
   "mimetype": "text/x-python",
   "name": "python",
   "nbconvert_exporter": "python",
   "pygments_lexer": "ipython3",
   "version": "3.11.5"
  }
 },
 "nbformat": 4,
 "nbformat_minor": 5
}
